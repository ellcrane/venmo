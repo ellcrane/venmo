{
 "cells": [
  {
   "cell_type": "code",
   "execution_count": 22,
   "metadata": {
    "collapsed": true
   },
   "outputs": [],
   "source": [
    "import requests\n",
    "import pandas as pd\n",
    "import boto3\n",
    "import time\n",
    "import datetime\n",
    "import calendar"
   ]
  },
  {
   "cell_type": "code",
   "execution_count": 3,
   "metadata": {},
   "outputs": [
    {
     "data": {
      "text/plain": [
       "1322726400.0"
      ]
     },
     "execution_count": 3,
     "metadata": {},
     "output_type": "execute_result"
    }
   ],
   "source": [
    "s = \"01/12/2011\"\n",
    "time.mktime(datetime.datetime.strptime(s, \"%d/%m/%Y\").timetuple())"
   ]
  },
  {
   "cell_type": "markdown",
   "metadata": {},
   "source": [
    "Parameters for scraping\n",
    "- Start date and end date\n",
    "    - Should be in local time for simplicity\n",
    "    - Input should include: Month, day, and timestamp (to the second)\n",
    "- Interval to scrape (every hour, every minute, every second, etc)"
   ]
  },
  {
   "cell_type": "code",
   "execution_count": 2,
   "metadata": {
    "collapsed": true
   },
   "outputs": [],
   "source": [
    "def get_unix_timestamp(time):\n",
    "    '''\n",
    "    INPUT: list in following format: [year, month, day, hours (24), minutes, seconds] **for UTC**\n",
    "    OUTPUT: Int of unix timestamp\n",
    "    '''\n",
    "    dt = datetime.datetime(time[0], time[1], time[2], time[3], time[4], time[5])\n",
    "    return calendar.timegm(dt.timetuple())\n",
    "\n",
    "def get_venmo_url(start_unix_timestamp, end_unix_timestamp, limit=1000000):\n",
    "    return f'https://venmo.com/api/v5/public?since={start_unix_timestamp}&until={end_unix_timestamp}&limit={limit}'\n",
    "\n",
    "def get_venmo_data(url):\n",
    "    raw_data = requests.get(url)\n",
    "    json_data = raw_data.json()\n",
    "    return json_data\n",
    "\n",
    "def scrape(start_date, end_date, interval, limit=1000000):\n",
    "    '''\n",
    "    INPUT: start_date and end_date, each as list in format: [year, month, day, hours (24), minutes, seconds]\n",
    "           Int of min 10 representing the number of second-long intervals to scrape\n",
    "    OUTPUT: none, will upload to s3 bucket\n",
    "    '''\n",
    "    s3 = boto3.resource('s3')\n",
    "    if interval < 10:\n",
    "        print('Interval must be greater than 10 seconds')\n",
    "    else:\n",
    "        start_unix_ts = get_unix_timestamp(start_date)\n",
    "        end_unix_ts = get_unix_timestamp(end_date)\n",
    "        scrape_count = int((end_unix_ts - start_unix_ts) / interval)\n",
    "        print(f'With your parameters, this function will scrape the public venmo API {scrape_count} times.')\n",
    "        test_lst = []\n",
    "        for i in range(start_unix_ts, end_unix_ts, interval):\n",
    "            url = get_venmo_url(i, i + interval, limit)\n",
    "            data = get_venmo_data(url)['data']\n",
    "            test_lst.append(data)\n",
    "            file_name = f'{i}_{i + interval}_{limit}'\n",
    "            obj = s3.Object('transaction-data-2018',f'{file_name}.json')\n",
    "            obj.put(Body=json.dumps(data))\n",
    "            time.sleep(1)\n",
    "        return test_lst"
   ]
  },
  {
   "cell_type": "markdown",
   "metadata": {},
   "source": [
    "https://venmo.com/api/v5/public?since=1476921600&until=1476921660&limit=1000000\n"
   ]
  },
  {
   "cell_type": "code",
   "execution_count": 382,
   "metadata": {
    "scrolled": true
   },
   "outputs": [
    {
     "name": "stdout",
     "output_type": "stream",
     "text": [
      "With your parameters, this function will scrape the public venmo API 2 times.\n"
     ]
    }
   ],
   "source": [
    "practice = scrape([2018, 2, 24, 2, 0, 0], [2018, 2, 24, 2, 1, 0], 30)"
   ]
  },
  {
   "cell_type": "code",
   "execution_count": 383,
   "metadata": {
    "collapsed": true
   },
   "outputs": [],
   "source": [
    "s3 = boto3.client('s3')\n",
    "response = s3.get_object(Bucket='transaction-data-2018',Key='1519437600_1519437630_1000000.json')\n",
    "body = json.loads((response['Body'].read()))\n",
    "df = pd.DataFrame(body)"
   ]
  },
  {
   "cell_type": "code",
   "execution_count": 4,
   "metadata": {
    "collapsed": true
   },
   "outputs": [],
   "source": [
    "time = [2017, 7, 11, 0, 0, 0]"
   ]
  },
  {
   "cell_type": "code",
   "execution_count": 6,
   "metadata": {},
   "outputs": [
    {
     "ename": "TypeError",
     "evalue": "'int' object is not subscriptable",
     "output_type": "error",
     "traceback": [
      "\u001b[0;31m---------------------------------------------------------------------------\u001b[0m",
      "\u001b[0;31mTypeError\u001b[0m                                 Traceback (most recent call last)",
      "\u001b[0;32m<ipython-input-6-b834f500ee77>\u001b[0m in \u001b[0;36m<module>\u001b[0;34m()\u001b[0m\n\u001b[0;32m----> 1\u001b[0;31m \u001b[0mdt\u001b[0m \u001b[0;34m=\u001b[0m \u001b[0mdatetime\u001b[0m\u001b[0;34m.\u001b[0m\u001b[0mdatetime\u001b[0m\u001b[0;34m(\u001b[0m\u001b[0mtime\u001b[0m\u001b[0;34m[\u001b[0m\u001b[0;36m0\u001b[0m\u001b[0;34m]\u001b[0m\u001b[0;34m,\u001b[0m \u001b[0mtime\u001b[0m\u001b[0;34m[\u001b[0m\u001b[0;36m1\u001b[0m\u001b[0;34m]\u001b[0m\u001b[0;34m,\u001b[0m \u001b[0mtime\u001b[0m\u001b[0;34m[\u001b[0m\u001b[0;36m2\u001b[0m\u001b[0;34m]\u001b[0m\u001b[0;34m[\u001b[0m\u001b[0mtime\u001b[0m\u001b[0;34m[\u001b[0m\u001b[0;36m3\u001b[0m\u001b[0;34m]\u001b[0m\u001b[0;34m]\u001b[0m\u001b[0;34m)\u001b[0m\u001b[0;34m\u001b[0m\u001b[0m\n\u001b[0m\u001b[1;32m      2\u001b[0m \u001b[0mcalendar\u001b[0m\u001b[0;34m.\u001b[0m\u001b[0mtimegm\u001b[0m\u001b[0;34m(\u001b[0m\u001b[0mdt\u001b[0m\u001b[0;34m.\u001b[0m\u001b[0mtimetuple\u001b[0m\u001b[0;34m(\u001b[0m\u001b[0;34m)\u001b[0m\u001b[0;34m)\u001b[0m\u001b[0;34m\u001b[0m\u001b[0m\n",
      "\u001b[0;31mTypeError\u001b[0m: 'int' object is not subscriptable"
     ]
    }
   ],
   "source": [
    "dt = datetime.datetime(time[0], time[1], time[2][time[3]])\n",
    "calendar.timegm(dt.timetuple())"
   ]
  },
  {
   "cell_type": "code",
   "execution_count": 9,
   "metadata": {},
   "outputs": [
    {
     "data": {
      "text/plain": [
       "1499731200"
      ]
     },
     "execution_count": 9,
     "metadata": {},
     "output_type": "execute_result"
    }
   ],
   "source": [
    "calendar.timegm(datetime.datetime(2017, 7, 11, 0, 0, 0).timetuple())"
   ]
  },
  {
   "cell_type": "code",
   "execution_count": 10,
   "metadata": {},
   "outputs": [
    {
     "data": {
      "text/plain": [
       "datetime.datetime(2017, 7, 11, 0, 0)"
      ]
     },
     "execution_count": 10,
     "metadata": {},
     "output_type": "execute_result"
    }
   ],
   "source": [
    "datetime.datetime(2017, 7, 11, 0, 0, 0)"
   ]
  },
  {
   "cell_type": "code",
   "execution_count": null,
   "metadata": {
    "collapsed": true
   },
   "outputs": [],
   "source": [
    "calendar.timegm()"
   ]
  },
  {
   "cell_type": "code",
   "execution_count": 5,
   "metadata": {
    "collapsed": true
   },
   "outputs": [],
   "source": [
    "dt = datetime.datetime(2014, 11, 22, 15, 0, 1)"
   ]
  },
  {
   "cell_type": "code",
   "execution_count": 7,
   "metadata": {},
   "outputs": [],
   "source": [
    "unix = calendar.timegm(dt.utctimetuple())"
   ]
  },
  {
   "cell_type": "code",
   "execution_count": 8,
   "metadata": {},
   "outputs": [
    {
     "data": {
      "text/plain": [
       "datetime.datetime(2014, 11, 22, 15, 0, 1)"
      ]
     },
     "execution_count": 8,
     "metadata": {},
     "output_type": "execute_result"
    }
   ],
   "source": [
    "datetime.datetime.utcfromtimestamp(unix)"
   ]
  },
  {
   "cell_type": "code",
   "execution_count": 9,
   "metadata": {
    "collapsed": true
   },
   "outputs": [],
   "source": [
    "def get_unix_timestamp(time):\n",
    "    '''\n",
    "    INPUT: list in following format: [year, month, day, hours (24), minutes, seconds] **for UTC**\n",
    "    OUTPUT: Int of unix timestamp\n",
    "    '''\n",
    "    dt = datetime.datetime(time[0], time[1], time[2], time[3], time[4], time[5])\n",
    "    return calendar.timegm(dt.utctimetuple())"
   ]
  },
  {
   "cell_type": "code",
   "execution_count": 10,
   "metadata": {},
   "outputs": [
    {
     "data": {
      "text/plain": [
       "1499731200"
      ]
     },
     "execution_count": 10,
     "metadata": {},
     "output_type": "execute_result"
    }
   ],
   "source": [
    "get_unix_timestamp([2017, 7, 11, 0, 0, 0])"
   ]
  },
  {
   "cell_type": "code",
   "execution_count": 20,
   "metadata": {
    "collapsed": true
   },
   "outputs": [],
   "source": [
    "time1 = [2017, 7, 11, 0, 0, 0]\n",
    "time2 = [2018, 7, 11, 0, 0, 0]"
   ]
  },
  {
   "cell_type": "code",
   "execution_count": 23,
   "metadata": {
    "collapsed": true
   },
   "outputs": [],
   "source": [
    "dt1 = datetime.datetime(time1[0], time1[1], time1[2], time1[3], time1[4], time1[5])\n",
    "dt2 = datetime.datetime(time2[0], time2[1], time2[2], time2[3], time2[4], time2[5])"
   ]
  },
  {
   "cell_type": "code",
   "execution_count": 24,
   "metadata": {
    "collapsed": true
   },
   "outputs": [],
   "source": [
    "unix1 = int(time.mktime(dt1.timetuple()))\n",
    "unix2 = int(time.mktime(dt2.timetuple()))"
   ]
  },
  {
   "cell_type": "code",
   "execution_count": 25,
   "metadata": {},
   "outputs": [
    {
     "data": {
      "text/plain": [
       "(1499756400, 1531292400)"
      ]
     },
     "execution_count": 25,
     "metadata": {},
     "output_type": "execute_result"
    }
   ],
   "source": [
    "unix1, unix2"
   ]
  },
  {
   "cell_type": "code",
   "execution_count": 27,
   "metadata": {},
   "outputs": [
    {
     "data": {
      "text/plain": [
       "17520.0"
      ]
     },
     "execution_count": 27,
     "metadata": {},
     "output_type": "execute_result"
    }
   ],
   "source": [
    "(unix2-unix1)/1800"
   ]
  },
  {
   "cell_type": "code",
   "execution_count": 14,
   "metadata": {},
   "outputs": [],
   "source": [
    "t = calendar.timegm(dt.utctimetuple())"
   ]
  },
  {
   "cell_type": "code",
   "execution_count": 15,
   "metadata": {},
   "outputs": [
    {
     "data": {
      "text/plain": [
       "datetime.datetime(2017, 7, 11, 0, 0)"
      ]
     },
     "execution_count": 15,
     "metadata": {},
     "output_type": "execute_result"
    }
   ],
   "source": [
    "datetime.datetime.utcfromtimestamp(t)"
   ]
  },
  {
   "cell_type": "code",
   "execution_count": 19,
   "metadata": {},
   "outputs": [
    {
     "data": {
      "text/plain": [
       "1499756400"
      ]
     },
     "execution_count": 19,
     "metadata": {},
     "output_type": "execute_result"
    }
   ],
   "source": [
    "int(time.mktime(dt.timetuple()))"
   ]
  },
  {
   "cell_type": "code",
   "execution_count": null,
   "metadata": {
    "collapsed": true
   },
   "outputs": [],
   "source": []
  }
 ],
 "metadata": {
  "kernelspec": {
   "display_name": "Python 3",
   "language": "python",
   "name": "python3"
  },
  "language_info": {
   "codemirror_mode": {
    "name": "ipython",
    "version": 3
   },
   "file_extension": ".py",
   "mimetype": "text/x-python",
   "name": "python",
   "nbconvert_exporter": "python",
   "pygments_lexer": "ipython3",
   "version": "3.6.3"
  }
 },
 "nbformat": 4,
 "nbformat_minor": 2
}
