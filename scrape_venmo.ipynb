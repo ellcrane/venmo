{
 "cells": [
  {
   "cell_type": "code",
   "execution_count": 169,
   "metadata": {
    "collapsed": true
   },
   "outputs": [],
   "source": [
    "import requests\n",
    "import pandas as pd\n",
    "import boto3\n",
    "import datetime\n",
    "import calendar"
   ]
  },
  {
   "cell_type": "code",
   "execution_count": 190,
   "metadata": {},
   "outputs": [
    {
     "data": {
      "text/plain": [
       "1527950460"
      ]
     },
     "execution_count": 190,
     "metadata": {},
     "output_type": "execute_result"
    }
   ],
   "source": [
    "d = datetime.datetime(start[0], start[1], start[2], start[3], start[4])\n",
    "calendar.timegm(d.timetuple())"
   ]
  },
  {
   "cell_type": "code",
   "execution_count": null,
   "metadata": {
    "collapsed": true
   },
   "outputs": [],
   "source": [
    "def get_venmo_url(start_date, end_date, limit):\n",
    "    "
   ]
  },
  {
   "cell_type": "code",
   "execution_count": 186,
   "metadata": {
    "collapsed": true
   },
   "outputs": [],
   "source": [
    "start = [2018, 6, 2, 14, 41]"
   ]
  },
  {
   "cell_type": "code",
   "execution_count": 152,
   "metadata": {},
   "outputs": [
    {
     "name": "stdout",
     "output_type": "stream",
     "text": [
      "200\n",
      "application/json\n",
      "dict_keys(['paging', 'data'])\n"
     ]
    }
   ],
   "source": [
    "r = requests.get(url)\n",
    "print(r.status_code)\n",
    "print(r.headers['content-type'])\n",
    "\n",
    "data = r.json()\n",
    "print(data.keys())"
   ]
  },
  {
   "cell_type": "code",
   "execution_count": 154,
   "metadata": {
    "collapsed": true
   },
   "outputs": [],
   "source": [
    "s3 = boto3.client('s3')"
   ]
  },
  {
   "cell_type": "code",
   "execution_count": 158,
   "metadata": {},
   "outputs": [
    {
     "data": {
      "text/plain": [
       "Timestamp('2015-05-18 00:00:00')"
      ]
     },
     "execution_count": 158,
     "metadata": {},
     "output_type": "execute_result"
    }
   ],
   "source": [
    "pd.to_datetime('2015-05-18')"
   ]
  },
  {
   "cell_type": "code",
   "execution_count": null,
   "metadata": {
    "collapsed": true
   },
   "outputs": [],
   "source": [
    "s3.put_object(Bucket='venmo-data', Key='data: '+current_zip, Body=data)"
   ]
  },
  {
   "cell_type": "code",
   "execution_count": null,
   "metadata": {
    "collapsed": true
   },
   "outputs": [],
   "source": [
    "class ScrapeCensus:\n",
    "    def __init__(self, url):\n",
    "        self.browser = webdriver.Chrome()\n",
    "        self.browser.get(url)\n",
    "        self.s3 = boto3.client('s3')\n",
    "    def scrape(self, n_to_scrape):\n",
    "        zip_codes_file = self.s3.get_object(Bucket='zip-code-economic-data', Key='all_zip_codes')['Body'].read()\n",
    "        zip_codes = zip_codes_file.decode('utf-8').split(',')\n",
    "        for i in range(n_to_scrape):\n",
    "            current_zip = zip_codes[i]\n",
    "            search_box = self.browser.find_element_by_css_selector(\"input#cfsearchtextbox\")\n",
    "            time.sleep(1)\n",
    "            search_box.click()\n",
    "            search_box.send_keys(current_zip)\n",
    "            search_button = self.browser.find_element_by_css_selector(\"a#communityfactssubmit\")\n",
    "            search_button.click()\n",
    "            time.sleep(2)\n",
    "            try:\n",
    "                show_all = self.browser.find_element_by_css_selector(\"a.leftnav_btn.all-measures\")\n",
    "                show_all.click()\n",
    "            except WebDriverException:\n",
    "                self.browser.get(\"https://factfinder.census.gov/faces/nav/jsf/pages/community_facts.xhtml\")\n",
    "                time.sleep(1)\n",
    "                show_all = self.browser.find_element_by_css_selector(\"a.leftnav_btn.all-measures\")\n",
    "                show_all.click()\n",
    "            time.sleep(2)\n",
    "            page_source = self.browser.page_source\n",
    "            self.s3.put_object(Bucket='zip-code-economic-data', Key='zip_code: '+current_zip, Body=page_source)\n",
    "            zip_codes.remove(current_zip)\n",
    "            self.s3.put_object(Bucket='zip-code-economic-data', Key='all_zip_codes',Body=\",\".join(zip_codes))\n",
    "            print(f\"{i}: zip code: {current_zip}, remaining zip codes: {len(zip_codes)}\")"
   ]
  }
 ],
 "metadata": {
  "kernelspec": {
   "display_name": "Python 3",
   "language": "python",
   "name": "python3"
  },
  "language_info": {
   "codemirror_mode": {
    "name": "ipython",
    "version": 3
   },
   "file_extension": ".py",
   "mimetype": "text/x-python",
   "name": "python",
   "nbconvert_exporter": "python",
   "pygments_lexer": "ipython3",
   "version": "3.6.3"
  }
 },
 "nbformat": 4,
 "nbformat_minor": 2
}
